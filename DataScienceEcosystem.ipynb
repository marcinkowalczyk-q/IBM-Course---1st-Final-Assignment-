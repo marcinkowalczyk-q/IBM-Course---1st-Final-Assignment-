{
 "cells": [
  {
   "cell_type": "markdown",
   "id": "3fe77dad-6f1d-47dd-b9d6-c7d3419ecd79",
   "metadata": {},
   "source": [
    "# Data Science Tools and Ecosystem"
   ]
  },
  {
   "cell_type": "markdown",
   "id": "f45627e6-03ba-484f-891f-bf55181e77ae",
   "metadata": {},
   "source": [
    "In this notebook, Data Science Tools and Ecosystems summarized."
   ]
  },
  {
   "cell_type": "markdown",
   "id": "0a674034-bd73-40d2-a799-aba3dbaba78b",
   "metadata": {},
   "source": [
    "Objectives:\n",
    "- List of the popular languages for Data Science\n",
    "- List of the commonly used libraries for Data Science\n",
    "- Three development environment open source tools used in data science\n",
    "- Few examples of evaluating arithmetic expression in Python"
   ]
  },
  {
   "cell_type": "markdown",
   "id": "2d3157d4-6b07-4834-a29a-871d76c57f6d",
   "metadata": {},
   "source": [
    "Some of the popular languages that Data Scientist use are:\n",
    "1. Python\n",
    "2. R\n",
    "3. SQL"
   ]
  },
  {
   "cell_type": "markdown",
   "id": "ca2f1a58-69ca-4035-9f9f-5db4f12c9341",
   "metadata": {},
   "source": [
    "Some of the commonly used libraries used by Data Scientist include:\n",
    "1. Pandas\n",
    "2. NumPy\n",
    "3. Scikit-learn"
   ]
  },
  {
   "cell_type": "markdown",
   "id": "4a508372-6993-493e-856a-73b9dbd5b3bf",
   "metadata": {},
   "source": [
    "|Data Science Tools|\n",
    "|------------------|\n",
    "|Jupyter Notebook|\n",
    "|RStudio|\n",
    "|VS Code|"
   ]
  },
  {
   "cell_type": "markdown",
   "id": "d37b094a-6862-4da4-867e-401b71f288b8",
   "metadata": {},
   "source": [
    "### Below are a few examples of evaluating arithmetic expression in Python"
   ]
  },
  {
   "cell_type": "code",
   "execution_count": 1,
   "id": "02115237-5eeb-43bb-b071-d7c31ed379cc",
   "metadata": {
    "tags": []
   },
   "outputs": [
    {
     "data": {
      "text/plain": [
       "17"
      ]
     },
     "execution_count": 1,
     "metadata": {},
     "output_type": "execute_result"
    }
   ],
   "source": [
    "#This a simple arithmetic expression to mutiply then add integers\n",
    "\n",
    "(3*4)+5"
   ]
  },
  {
   "cell_type": "code",
   "execution_count": 3,
   "id": "9d5d4f6b-560f-4280-93db-66df045d93c7",
   "metadata": {
    "tags": []
   },
   "outputs": [
    {
     "data": {
      "text/plain": [
       "3.3333333333333335"
      ]
     },
     "execution_count": 3,
     "metadata": {},
     "output_type": "execute_result"
    }
   ],
   "source": [
    "#This will convert 200 minutes to hours by diving by 60\n",
    "\n",
    "hours = 200 / 60\n",
    "hours"
   ]
  },
  {
   "cell_type": "markdown",
   "id": "9603175a-9eea-4346-b8c9-6a13e44712ca",
   "metadata": {},
   "source": [
    "## Author\n",
    "Marcin"
   ]
  },
  {
   "cell_type": "code",
   "execution_count": null,
   "id": "69e5a46d-3172-49d2-9ed3-f5bb30b136cd",
   "metadata": {},
   "outputs": [],
   "source": []
  }
 ],
 "metadata": {
  "kernelspec": {
   "display_name": "Python 3 (ipykernel)",
   "language": "python",
   "name": "python3"
  },
  "language_info": {
   "codemirror_mode": {
    "name": "ipython",
    "version": 3
   },
   "file_extension": ".py",
   "mimetype": "text/x-python",
   "name": "python",
   "nbconvert_exporter": "python",
   "pygments_lexer": "ipython3",
   "version": "3.9.21"
  }
 },
 "nbformat": 4,
 "nbformat_minor": 5
}
